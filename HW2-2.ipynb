{
 "cells": [
  {
   "cell_type": "code",
   "execution_count": 1,
   "metadata": {},
   "outputs": [],
   "source": [
    "import torch\n",
    "import torch.nn as nn\n",
    "import torch.nn.functional as F\n",
    "from torchvision import transforms\n",
    "from torch.utils.data import TensorDataset, DataLoader\n",
    "import torch.optim as optim\n",
    "from torchvision import models\n",
    "\n",
    "import numpy as np\n",
    "from numpy import linalg as LA\n",
    "import cv2\n",
    "import matplotlib.pyplot as plt\n",
    "from tqdm import tqdm"
   ]
  },
  {
   "cell_type": "code",
   "execution_count": 2,
   "metadata": {},
   "outputs": [
    {
     "name": "stdout",
     "output_type": "stream",
     "text": [
      "Total train images: 63325\n"
     ]
    },
    {
     "name": "stderr",
     "output_type": "stream",
     "text": [
      "Loading images: 100%|██████████| 63325/63325 [00:24<00:00, 2618.06it/s]\n"
     ]
    },
    {
     "name": "stdout",
     "output_type": "stream",
     "text": [
      "total images: 450\n"
     ]
    },
    {
     "name": "stderr",
     "output_type": "stream",
     "text": [
      "Loading images: 100%|██████████| 450/450 [00:00<00:00, 2782.87it/s]\n"
     ]
    },
    {
     "name": "stdout",
     "output_type": "stream",
     "text": [
      "total images: 450\n"
     ]
    },
    {
     "name": "stderr",
     "output_type": "stream",
     "text": [
      "Loading images: 100%|██████████| 450/450 [00:00<00:00, 2813.66it/s]\n"
     ]
    }
   ],
   "source": [
    "\n",
    "def load_train_img(file_path):\n",
    "    with open(file_path) as f:\n",
    "        lines = f.readlines()\n",
    "    imgs, labels = [], []\n",
    "    target_size=(128, 128)\n",
    "    print('Total train images:', len(lines))\n",
    "    for i in tqdm(range(len(lines)), desc=\"Loading images\"):\n",
    "    # for i in tqdm(range(100), desc=\"Loading images\"):\n",
    "        fn, label = lines[i].strip().split(' ')\n",
    "        im1 = cv2.imread(fn)\n",
    "        # 如果需要進行影像處理，請在這裡添加相應的處理步驟\n",
    "        im1 = cv2.resize(im1, target_size)\n",
    "        # 轉換成 PyTorch Tensor\n",
    "        im1_tensor = torch.from_numpy(im1.transpose(2, 0, 1))  # 將通道維度移動到最前面\n",
    "\n",
    "        imgs.append(im1_tensor) \n",
    "        labels.append(int(label))\n",
    "\n",
    "    imgs_tensor = torch.stack(imgs)  # 將列表中的 Tensor 堆疊成一個整體 Tensor\n",
    "    labels_tensor = torch.tensor(labels)\n",
    "\n",
    "    return imgs_tensor, labels_tensor\n",
    "\n",
    "def load_img(f):\n",
    "    f=open(f)\n",
    "    lines=f.readlines()\n",
    "    imgs, labels=[], []\n",
    "    target_size=(128, 128)\n",
    "    print('total images:', len(lines))\n",
    "    for i in tqdm(range(len(lines)), desc=\"Loading images\"):\n",
    "    # for i in tqdm(range(100), desc=\"Loading images\"):\n",
    "        fn, label = lines[i].split(' ')\n",
    "        \n",
    "        # 原圖\n",
    "        im1=cv2.imread(fn)\n",
    "        im1 = cv2.resize(im1, target_size)\n",
    "        # 轉換成 PyTorch Tensor\n",
    "        im1_tensor = torch.from_numpy(im1.transpose(2, 0, 1))  # 將通道維度移動到最前面\n",
    "\n",
    "        imgs.append(im1_tensor) \n",
    "        labels.append(int(label))\n",
    "\n",
    "    imgs_tensor = torch.stack(imgs)  # 將列表中的 Tensor 堆疊成一個整體 Tensor\n",
    "    labels_tensor = torch.tensor(labels)\n",
    "\n",
    "    return imgs_tensor, labels_tensor\n",
    "\n",
    "x, y = load_train_img('train.txt')\n",
    "val_x, val_y = load_img('val.txt')\n",
    "tx, ty = load_img('test.txt')"
   ]
  },
  {
   "cell_type": "code",
   "execution_count": 3,
   "metadata": {},
   "outputs": [],
   "source": [
    "y_tensor = torch.nn.functional.one_hot(y, num_classes=50)\n",
    "val_y_tensor = torch.nn.functional.one_hot(val_y, num_classes=50)\n",
    "test_y_tensor = torch.nn.functional.one_hot(ty, num_classes=50)\n",
    "train_dataset = TensorDataset(x, y_tensor)\n",
    "val_dataset = TensorDataset(val_x, val_y_tensor)\n",
    "test_dataset = TensorDataset(tx, test_y_tensor)\n",
    "\n",
    "batch_size = 128  # 可以自行調整 batch size 的大小\n",
    "shuffle = True   # 是否對資料進行洗牌\n",
    "train_loader = DataLoader(train_dataset, batch_size=batch_size, shuffle=shuffle)\n",
    "val_loader = DataLoader(val_dataset, batch_size=batch_size, shuffle=shuffle)\n",
    "test_loader = DataLoader(test_dataset, batch_size=batch_size, shuffle=shuffle)\n"
   ]
  },
  {
   "cell_type": "code",
   "execution_count": 4,
   "metadata": {},
   "outputs": [],
   "source": [
    "class attention2d(nn.Module):\n",
    "    def __init__(self, in_planes, ratios, K, temperature, init_weight=True):\n",
    "        super(attention2d, self).__init__()\n",
    "        assert temperature%3==1\n",
    "        self.avgpool = nn.AdaptiveAvgPool2d(1)\n",
    "        if in_planes!=3:\n",
    "            hidden_planes = int(in_planes*ratios)+1\n",
    "        else:\n",
    "            hidden_planes = K\n",
    "        self.fc1 = nn.Conv2d(in_planes, hidden_planes, 1, bias=False)\n",
    "        # self.bn = nn.BatchNorm2d(hidden_planes)\n",
    "        self.fc2 = nn.Conv2d(hidden_planes, K, 1, bias=True)\n",
    "        self.temperature = temperature\n",
    "        if init_weight:\n",
    "            self._initialize_weights()\n",
    "\n",
    "\n",
    "    def _initialize_weights(self):\n",
    "        for m in self.modules():\n",
    "            if isinstance(m, nn.Conv2d):\n",
    "                nn.init.kaiming_normal_(m.weight, mode='fan_out', nonlinearity='relu')\n",
    "                if m.bias is not None:\n",
    "                    nn.init.constant_(m.bias, 0)\n",
    "            if isinstance(m ,nn.BatchNorm2d):\n",
    "                nn.init.constant_(m.weight, 1)\n",
    "                nn.init.constant_(m.bias, 0)\n",
    "\n",
    "    def updata_temperature(self):\n",
    "        if self.temperature!=1:\n",
    "            self.temperature -=3\n",
    "            print('Change temperature to:', str(self.temperature))\n",
    "\n",
    "\n",
    "    def forward(self, x):\n",
    "        x = self.avgpool(x)\n",
    "        x = self.fc1(x)\n",
    "        x = F.relu(x)\n",
    "        x = self.fc2(x).view(x.size(0), -1)\n",
    "        return F.softmax(x/self.temperature, 1)\n",
    "\n",
    "\n",
    "class Dynamic_conv2d(nn.Module):\n",
    "    def __init__(self, in_planes, out_planes, kernel_size, ratio=0.25, stride=1, padding=0, dilation=1, groups=1, bias=True, K=4,temperature=34, init_weight=True):\n",
    "        super(Dynamic_conv2d, self).__init__()\n",
    "        assert in_planes%groups==0\n",
    "        self.in_planes = in_planes\n",
    "        self.out_planes = out_planes\n",
    "        self.kernel_size = kernel_size\n",
    "        self.stride = stride\n",
    "        self.padding = padding\n",
    "        self.dilation = dilation\n",
    "        self.groups = groups\n",
    "        self.bias = bias\n",
    "        self.K = K\n",
    "        self.attention = attention2d(in_planes, ratio, K, temperature)\n",
    "\n",
    "        self.weight = nn.Parameter(torch.randn(K, out_planes, in_planes//groups, kernel_size, kernel_size), requires_grad=True)\n",
    "        if bias:\n",
    "            self.bias = nn.Parameter(torch.zeros(K, out_planes))\n",
    "        else:\n",
    "            self.bias = None\n",
    "        if init_weight:\n",
    "            self._initialize_weights()\n",
    "\n",
    "        #TODO 初始化\n",
    "    def _initialize_weights(self):\n",
    "        for i in range(self.K):\n",
    "            nn.init.kaiming_uniform_(self.weight[i])\n",
    "\n",
    "\n",
    "    def update_temperature(self):\n",
    "        self.attention.updata_temperature()\n",
    "\n",
    "    def forward(self, x):#将batch视作维度变量，进行组卷积，因为组卷积的权重是不同的，动态卷积的权重也是不同的\n",
    "        softmax_attention = self.attention(x)\n",
    "        batch_size, in_planes, height, width = x.size()\n",
    "        x = x.view(1, -1, height, width)# 变化成一个维度进行组卷积\n",
    "        weight = self.weight.view(self.K, -1)\n",
    "\n",
    "        # 动态卷积的权重的生成， 生成的是batch_size个卷积参数（每个参数不同）\n",
    "        aggregate_weight = torch.mm(softmax_attention, weight).view(batch_size*self.out_planes, self.in_planes//self.groups, self.kernel_size, self.kernel_size)\n",
    "        if self.bias is not None:\n",
    "            aggregate_bias = torch.mm(softmax_attention, self.bias).view(-1)\n",
    "            output = F.conv2d(x, weight=aggregate_weight, bias=aggregate_bias, stride=self.stride, padding=self.padding,\n",
    "                              dilation=self.dilation, groups=self.groups*batch_size)\n",
    "        else:\n",
    "            output = F.conv2d(x, weight=aggregate_weight, bias=None, stride=self.stride, padding=self.padding,\n",
    "                              dilation=self.dilation, groups=self.groups * batch_size)\n",
    "\n",
    "        output = output.view(batch_size, self.out_planes, output.size(-2), output.size(-1))\n",
    "        return output"
   ]
  },
  {
   "cell_type": "code",
   "execution_count": 40,
   "metadata": {},
   "outputs": [],
   "source": [
    "class CNNModel(nn.Module):\n",
    "    def __init__(self):\n",
    "        super(CNNModel, self).__init__()\n",
    "        \n",
    "        # 5层卷积层\n",
    "        self.conv1 = Dynamic_conv2d(in_planes=3, out_planes=32, kernel_size=3, stride=1, padding=1)\n",
    "        self.conv2 = Dynamic_conv2d(in_planes=32, out_planes=64, kernel_size=3, stride=1, padding=1)\n",
    "        self.conv3 = Dynamic_conv2d(in_planes=64, out_planes=128, kernel_size=3, stride=1, padding=1)\n",
    "        self.conv4 = Dynamic_conv2d(in_planes=128, out_planes=256, kernel_size=3, stride=1, padding=1)\n",
    "        \n",
    "        # 批归一化层（可选）\n",
    "        self.bn1 = nn.BatchNorm2d(32)\n",
    "        self.bn2 = nn.BatchNorm2d(64)\n",
    "        self.bn3 = nn.BatchNorm2d(128)\n",
    "        self.bn4 = nn.BatchNorm2d(256)\n",
    "        \n",
    "        # 池化层\n",
    "        self.pool = nn.MaxPool2d(kernel_size=2, stride=2, padding=0)\n",
    "\n",
    "        self.flatten = nn.Flatten()\n",
    "        # self.flattened_size = self._get_flatten_size((128, 128))\n",
    "        # 3层全连接层\n",
    "        self.fc1 = nn.Linear(256 * 8 * 8, 1024)  # 这里假设输入图像大小是224x224\n",
    "        self.fc2 = nn.Linear(1024, 50)  # 这里假设有10个类别\n",
    "        \n",
    "\n",
    "    \n",
    "    def forward(self, x):\n",
    "        # 卷积层 + 批归一化 + 激活函数 + 池化\n",
    "        x = self.pool(F.relu(self.bn1(self.conv1(x))))\n",
    "        x = self.pool(F.relu(self.bn2(self.conv2(x))))\n",
    "        x = self.pool(F.relu(self.bn3(self.conv3(x))))\n",
    "        x = self.pool(F.relu(self.bn4(self.conv4(x))))\n",
    "        \n",
    "        # print(x.shape)\n",
    "        # 展平\n",
    "        x = self.flatten(x)\n",
    "        # print(x.shape)\n",
    "        x = F.relu(self.fc1(x))\n",
    "        x = self.fc2(x)\n",
    "        \n",
    "        return x"
   ]
  },
  {
   "cell_type": "code",
   "execution_count": 41,
   "metadata": {},
   "outputs": [
    {
     "data": {
      "text/plain": [
       "CNNModel(\n",
       "  (conv1): Dynamic_conv2d(\n",
       "    (attention): attention2d(\n",
       "      (avgpool): AdaptiveAvgPool2d(output_size=1)\n",
       "      (fc1): Conv2d(3, 4, kernel_size=(1, 1), stride=(1, 1), bias=False)\n",
       "      (fc2): Conv2d(4, 4, kernel_size=(1, 1), stride=(1, 1))\n",
       "    )\n",
       "  )\n",
       "  (conv2): Dynamic_conv2d(\n",
       "    (attention): attention2d(\n",
       "      (avgpool): AdaptiveAvgPool2d(output_size=1)\n",
       "      (fc1): Conv2d(32, 9, kernel_size=(1, 1), stride=(1, 1), bias=False)\n",
       "      (fc2): Conv2d(9, 4, kernel_size=(1, 1), stride=(1, 1))\n",
       "    )\n",
       "  )\n",
       "  (conv3): Dynamic_conv2d(\n",
       "    (attention): attention2d(\n",
       "      (avgpool): AdaptiveAvgPool2d(output_size=1)\n",
       "      (fc1): Conv2d(64, 17, kernel_size=(1, 1), stride=(1, 1), bias=False)\n",
       "      (fc2): Conv2d(17, 4, kernel_size=(1, 1), stride=(1, 1))\n",
       "    )\n",
       "  )\n",
       "  (conv4): Dynamic_conv2d(\n",
       "    (attention): attention2d(\n",
       "      (avgpool): AdaptiveAvgPool2d(output_size=1)\n",
       "      (fc1): Conv2d(128, 33, kernel_size=(1, 1), stride=(1, 1), bias=False)\n",
       "      (fc2): Conv2d(33, 4, kernel_size=(1, 1), stride=(1, 1))\n",
       "    )\n",
       "  )\n",
       "  (bn1): BatchNorm2d(32, eps=1e-05, momentum=0.1, affine=True, track_running_stats=True)\n",
       "  (bn2): BatchNorm2d(64, eps=1e-05, momentum=0.1, affine=True, track_running_stats=True)\n",
       "  (bn3): BatchNorm2d(128, eps=1e-05, momentum=0.1, affine=True, track_running_stats=True)\n",
       "  (bn4): BatchNorm2d(256, eps=1e-05, momentum=0.1, affine=True, track_running_stats=True)\n",
       "  (pool): MaxPool2d(kernel_size=2, stride=2, padding=0, dilation=1, ceil_mode=False)\n",
       "  (flatten): Flatten(start_dim=1, end_dim=-1)\n",
       "  (fc1): Linear(in_features=16384, out_features=1024, bias=True)\n",
       "  (fc2): Linear(in_features=1024, out_features=50, bias=True)\n",
       ")"
      ]
     },
     "execution_count": 41,
     "metadata": {},
     "output_type": "execute_result"
    }
   ],
   "source": [
    "# model = ResModel()\n",
    "model = CNNModel()\n",
    "num_classes = 50\n",
    "# model.fc = nn.Linear(model.fc.in_features, num_classes)\n",
    "device = torch.device(\"cuda:0\" if torch.cuda.is_available() else \"cpu\")  # 檢查是否有 GPU，有則使用 GPU\n",
    "model.to(device)  # 將模型移動到設備上"
   ]
  },
  {
   "cell_type": "code",
   "execution_count": 42,
   "metadata": {},
   "outputs": [
    {
     "name": "stderr",
     "output_type": "stream",
     "text": [
      "Epoch 1/10: 100%|██████████| 495/495 [00:16<00:00, 30.07it/s]\n"
     ]
    },
    {
     "name": "stdout",
     "output_type": "stream",
     "text": [
      "Epoch 1/10, Loss: 3.5857\n"
     ]
    },
    {
     "name": "stderr",
     "output_type": "stream",
     "text": [
      "Evaluating: 100%|██████████| 4/4 [00:00<00:00, 106.92it/s]\n"
     ]
    },
    {
     "name": "stdout",
     "output_type": "stream",
     "text": [
      "Validation Accuracy: 0.2200\n"
     ]
    },
    {
     "name": "stderr",
     "output_type": "stream",
     "text": [
      "Epoch 2/10: 100%|██████████| 495/495 [00:15<00:00, 31.31it/s]\n"
     ]
    },
    {
     "name": "stdout",
     "output_type": "stream",
     "text": [
      "Epoch 2/10, Loss: 2.6828\n"
     ]
    },
    {
     "name": "stderr",
     "output_type": "stream",
     "text": [
      "Evaluating: 100%|██████████| 4/4 [00:00<00:00, 95.86it/s]\n"
     ]
    },
    {
     "name": "stdout",
     "output_type": "stream",
     "text": [
      "Validation Accuracy: 0.2533\n"
     ]
    },
    {
     "name": "stderr",
     "output_type": "stream",
     "text": [
      "Epoch 3/10: 100%|██████████| 495/495 [00:15<00:00, 31.10it/s]\n"
     ]
    },
    {
     "name": "stdout",
     "output_type": "stream",
     "text": [
      "Epoch 3/10, Loss: 2.3606\n"
     ]
    },
    {
     "name": "stderr",
     "output_type": "stream",
     "text": [
      "Evaluating: 100%|██████████| 4/4 [00:00<00:00, 103.77it/s]\n"
     ]
    },
    {
     "name": "stdout",
     "output_type": "stream",
     "text": [
      "Validation Accuracy: 0.2822\n"
     ]
    },
    {
     "name": "stderr",
     "output_type": "stream",
     "text": [
      "Epoch 4/10: 100%|██████████| 495/495 [00:16<00:00, 30.13it/s]\n"
     ]
    },
    {
     "name": "stdout",
     "output_type": "stream",
     "text": [
      "Epoch 4/10, Loss: 2.1043\n"
     ]
    },
    {
     "name": "stderr",
     "output_type": "stream",
     "text": [
      "Evaluating: 100%|██████████| 4/4 [00:00<00:00, 93.57it/s]\n"
     ]
    },
    {
     "name": "stdout",
     "output_type": "stream",
     "text": [
      "Validation Accuracy: 0.3511\n"
     ]
    },
    {
     "name": "stderr",
     "output_type": "stream",
     "text": [
      "Epoch 5/10: 100%|██████████| 495/495 [00:16<00:00, 30.05it/s]\n"
     ]
    },
    {
     "name": "stdout",
     "output_type": "stream",
     "text": [
      "Epoch 5/10, Loss: 1.8859\n"
     ]
    },
    {
     "name": "stderr",
     "output_type": "stream",
     "text": [
      "Evaluating: 100%|██████████| 4/4 [00:00<00:00, 107.98it/s]\n"
     ]
    },
    {
     "name": "stdout",
     "output_type": "stream",
     "text": [
      "Validation Accuracy: 0.3933\n"
     ]
    },
    {
     "name": "stderr",
     "output_type": "stream",
     "text": [
      "Epoch 6/10: 100%|██████████| 495/495 [00:16<00:00, 30.53it/s]\n"
     ]
    },
    {
     "name": "stdout",
     "output_type": "stream",
     "text": [
      "Epoch 6/10, Loss: 1.6796\n"
     ]
    },
    {
     "name": "stderr",
     "output_type": "stream",
     "text": [
      "Evaluating: 100%|██████████| 4/4 [00:00<00:00, 44.61it/s]\n"
     ]
    },
    {
     "name": "stdout",
     "output_type": "stream",
     "text": [
      "Validation Accuracy: 0.4044\n"
     ]
    },
    {
     "name": "stderr",
     "output_type": "stream",
     "text": [
      "Epoch 7/10: 100%|██████████| 495/495 [00:16<00:00, 30.48it/s]\n"
     ]
    },
    {
     "name": "stdout",
     "output_type": "stream",
     "text": [
      "Epoch 7/10, Loss: 1.4788\n"
     ]
    },
    {
     "name": "stderr",
     "output_type": "stream",
     "text": [
      "Evaluating: 100%|██████████| 4/4 [00:00<00:00, 105.75it/s]\n"
     ]
    },
    {
     "name": "stdout",
     "output_type": "stream",
     "text": [
      "Validation Accuracy: 0.4356\n"
     ]
    },
    {
     "name": "stderr",
     "output_type": "stream",
     "text": [
      "Epoch 8/10: 100%|██████████| 495/495 [00:16<00:00, 30.22it/s]\n"
     ]
    },
    {
     "name": "stdout",
     "output_type": "stream",
     "text": [
      "Epoch 8/10, Loss: 1.2778\n"
     ]
    },
    {
     "name": "stderr",
     "output_type": "stream",
     "text": [
      "Evaluating: 100%|██████████| 4/4 [00:00<00:00, 100.56it/s]\n"
     ]
    },
    {
     "name": "stdout",
     "output_type": "stream",
     "text": [
      "Validation Accuracy: 0.4156\n"
     ]
    },
    {
     "name": "stderr",
     "output_type": "stream",
     "text": [
      "Epoch 9/10: 100%|██████████| 495/495 [00:16<00:00, 30.50it/s]\n"
     ]
    },
    {
     "name": "stdout",
     "output_type": "stream",
     "text": [
      "Epoch 9/10, Loss: 1.0749\n"
     ]
    },
    {
     "name": "stderr",
     "output_type": "stream",
     "text": [
      "Evaluating: 100%|██████████| 4/4 [00:00<00:00, 104.18it/s]\n"
     ]
    },
    {
     "name": "stdout",
     "output_type": "stream",
     "text": [
      "Validation Accuracy: 0.4600\n"
     ]
    },
    {
     "name": "stderr",
     "output_type": "stream",
     "text": [
      "Epoch 10/10: 100%|██████████| 495/495 [00:16<00:00, 30.07it/s]\n"
     ]
    },
    {
     "name": "stdout",
     "output_type": "stream",
     "text": [
      "Epoch 10/10, Loss: 0.8613\n"
     ]
    },
    {
     "name": "stderr",
     "output_type": "stream",
     "text": [
      "Evaluating: 100%|██████████| 4/4 [00:00<00:00, 91.64it/s]"
     ]
    },
    {
     "name": "stdout",
     "output_type": "stream",
     "text": [
      "Validation Accuracy: 0.4289\n"
     ]
    },
    {
     "name": "stderr",
     "output_type": "stream",
     "text": [
      "\n"
     ]
    }
   ],
   "source": [
    "\n",
    "criterion = nn.CrossEntropyLoss()\n",
    "optimizer = optim.Adam(model.parameters(), lr=0.001)\n",
    "# for param in model.parameters():\n",
    "#     param = param.to(device)\n",
    "\n",
    "# 訓練循環\n",
    "epochs = 10  # 設定訓練輪數\n",
    "\n",
    "traing_acc = []\n",
    "val_acc = []\n",
    "\n",
    "for epoch in range(epochs):\n",
    "    model.train()  # 將模型設置為訓練模式\n",
    "    running_loss = 0.0\n",
    "\n",
    "    train_correct = 0\n",
    "    train_total = 0\n",
    "\n",
    "    for inputs, labels in tqdm(train_loader, desc=f\"Epoch {epoch + 1}/{epochs}\"):\n",
    "        # print(inputs[0].shape)\n",
    "\n",
    "        inputs, labels = inputs.float().to(device), labels.float().to(device)  # 將數據移動到設備上\n",
    "\n",
    "        # 正向傳播\n",
    "        outputs = model(inputs)\n",
    "        # print(type(outputs))\n",
    "        # print(outputs.shape)\n",
    "        # print(labels.shape)\n",
    "\n",
    "        loss = criterion(outputs, labels)\n",
    "\n",
    "        # 反向傳播和優化\n",
    "        optimizer.zero_grad()\n",
    "        loss.backward()\n",
    "        optimizer.step()\n",
    "\n",
    "        running_loss += loss.item() * inputs.size(0)\n",
    "        labels = labels.argmax(dim=1)\n",
    "        train_correct += (predicted == labels).sum().item()\n",
    "        train_total += labels.size(0)\n",
    "\n",
    "    traing_acc.append(100 * train_correct / train_total)\n",
    "\n",
    "    epoch_loss = running_loss / len(train_loader.dataset)\n",
    "    print(f\"Epoch {epoch + 1}/{epochs}, Loss: {epoch_loss:.4f}\")\n",
    "\n",
    "    # 進行模型的評估\n",
    "    model.eval()  # 將模型設置為評估模式\n",
    "    correct = 0\n",
    "    total = 0\n",
    "\n",
    "    with torch.no_grad():\n",
    "        for inputs, labels in tqdm(val_loader, desc=\"Evaluating\"):\n",
    "            inputs, labels = inputs.float().to(device), labels.float().to(device)\n",
    "            labels = labels.argmax(dim=1)\n",
    "            outputs = model(inputs)\n",
    "            _, predicted = torch.max(outputs, 1)\n",
    "            total += labels.size(0)\n",
    "            # print(predicted.shape)\n",
    "            # print(labels.shape)\n",
    "            \n",
    "            correct += (predicted == labels).sum().item()\n",
    "\n",
    "    val_acc.append(100 * correct / total)\n",
    "\n",
    "    print(f\"Epoch {epoch + 1}/{epochs}, Loss: {epoch_loss:.4f}, channel = 3, Training Accuracy: {100 * train_correct / train_total:.2f}%, Validation Accuracy: {100 * correct / total:.2f}%\")\n",
    "\n",
    "plt.plot(traing_acc, label='Training Accuracy')\n",
    "plt.plot(val_acc, label='Validation Accuracy')\n",
    "plt.xlabel('Epoch')\n",
    "plt.ylabel('Accuracy')\n",
    "plt.legend()\n",
    "plt.savefig(\"accuracy_plot.png\")\n",
    "plt.show()\n"
   ]
  },
  {
   "cell_type": "code",
   "execution_count": 43,
   "metadata": {},
   "outputs": [
    {
     "name": "stderr",
     "output_type": "stream",
     "text": [
      "Evaluating: 100%|██████████| 4/4 [00:00<00:00, 70.87it/s]"
     ]
    },
    {
     "name": "stdout",
     "output_type": "stream",
     "text": [
      "test Accuracy: 0.4978\n"
     ]
    },
    {
     "name": "stderr",
     "output_type": "stream",
     "text": [
      "\n"
     ]
    }
   ],
   "source": [
    "model.eval()  # 將模型設置為評估模式\n",
    "correct = 0\n",
    "total = 0\n",
    "\n",
    "with torch.no_grad():\n",
    "    for inputs, labels in tqdm(test_loader, desc=\"Evaluating\"):\n",
    "        inputs, labels = inputs.float().to(device), labels.float().to(device)\n",
    "        labels = labels.argmax(dim=1)\n",
    "        outputs = model(inputs)\n",
    "        _, predicted = torch.max(outputs, 1)\n",
    "        total += labels.size(0)\n",
    "        # print(predicted.shape)\n",
    "        # print(labels.shape)\n",
    "        \n",
    "        correct += (predicted == labels).sum().item()\n",
    "\n",
    "accuracy = correct / total\n",
    "print(f\"test Accuracy: {accuracy:.4f}\")"
   ]
  }
 ],
 "metadata": {
  "kernelspec": {
   "display_name": "Python 3",
   "language": "python",
   "name": "python3"
  },
  "language_info": {
   "codemirror_mode": {
    "name": "ipython",
    "version": 3
   },
   "file_extension": ".py",
   "mimetype": "text/x-python",
   "name": "python",
   "nbconvert_exporter": "python",
   "pygments_lexer": "ipython3",
   "version": "3.10.12"
  }
 },
 "nbformat": 4,
 "nbformat_minor": 2
}
